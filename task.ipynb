import pandas as pd
from sklearn.impute import SimpleImputer
from sklearn.preprocessing import StandardScaler, OneHotEncoder
from sklearn.pipeline import Pipeline
from sklearn.compose import ColumnTransformer

def load_data(file_path):
    """Load dataset from CSV file."""
    return pd.read_csv("Iris.csv")

def preprocess_data(df):
    """Preprocess data: handle missing values, scale numerical features, encode categorical variables."""
    # Identify numerical and categorical columns
    num_features = df.select_dtypes(include=['int64', 'float64']).columns
    cat_features = df.select_dtypes(include=['object']).columns

  
    num_pipeline = Pipeline([
        ('imputer', SimpleImputer(strategy='mean')),
        ('scaler', StandardScaler())
    ])

    cat_pipeline = Pipeline([
        ('imputer', SimpleImputer(strategy='most_frequent')),
        ('encoder', OneHotEncoder(handle_unknown='ignore'))
    ])

  
    preprocessor = ColumnTransformer([
        ('num', num_pipeline, num_features),
        ('cat', cat_pipeline, cat_features)
    ])

    
    transformed_data = preprocessor.fit_transform(df)
    transformed_df = pd.DataFrame(transformed_data)

    return transformed_df

def save_data(df, output_path):
    """Save processed data to CSV file."""
    df.to_csv(output_path, index=False)

def main():
    input_file = 'Iris.csv'  
    output_file = 'processed_data.csv'

    
    df = load_data(input_file)
    processed_df = preprocess_data(df)
    save_data(processed_df, output_file)

    print(f"Processed data saved to {output_file}")

if __name__ == "__main__":
    main()
